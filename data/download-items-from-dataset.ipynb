{
 "cells": [
  {
   "cell_type": "markdown",
   "metadata": {},
   "source": [
    "Step 1: Import Synapseclient and log in"
   ]
  },
  {
   "cell_type": "code",
   "execution_count": null,
   "metadata": {},
   "outputs": [],
   "source": [
    "import synapseclient\n",
    "from synapseclient import Entity, Project, Folder, File, Link\n",
    "import pandas as pd\n",
    "\n",
    "syn = synapseclient.Synapse()\n",
    "syn.login()"
   ]
  },
  {
   "cell_type": "markdown",
   "metadata": {},
   "source": [
    "Step 2: Download files from a Dataset on Synapse"
   ]
  },
  {
   "cell_type": "code",
   "execution_count": null,
   "metadata": {},
   "outputs": [],
   "source": [
    "# insert synapse ID of the dataset\n",
    "synapseid = \"syn52357115\"\n",
    "\n",
    "# insert your local directory path\n",
    "my_fave_directory = \"~/insert-directory-path-here/\"\n",
    "\n",
    "df = syn.get(synapseid)\n",
    "for f in df.datasetItems:\n",
    "   f_id = f.get('entityId')\n",
    "   filename = syn.get(f_id, downloadFile=True, downloadLocation = my_fave_directory)"
   ]
  }
 ],
 "metadata": {
  "interpreter": {
   "hash": "a1520fff7cfd7087e7c633877a43a7a6055f5cdda6c3f509280dc0c9a2a1b1a0"
  },
  "kernelspec": {
   "display_name": "Python 3.8.13 ('reticulate_conda')",
   "language": "python",
   "name": "python3"
  },
  "language_info": {
   "codemirror_mode": {
    "name": "ipython",
    "version": 3
   },
   "file_extension": ".py",
   "mimetype": "text/x-python",
   "name": "python",
   "nbconvert_exporter": "python",
   "pygments_lexer": "ipython3",
   "version": "3.8.13"
  },
  "orig_nbformat": 4
 },
 "nbformat": 4,
 "nbformat_minor": 2
}
