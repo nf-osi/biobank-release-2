{
 "cells": [
  {
   "cell_type": "markdown",
   "metadata": {},
   "source": [
    "This markdown documents code used to construct a Synapse dataset in the Biobank Synapse workspace using a subset of processed files in the NF-OSI-Processed folder.\n",
    "\n",
    "I need all MAF files in the exomeseq somatic variant calls folder and want to store them as a versioned dataset that I can come back to again and again."
   ]
  },
  {
   "cell_type": "markdown",
   "metadata": {},
   "source": [
    "\n",
    "Log into Synapse"
   ]
  },
  {
   "cell_type": "code",
   "execution_count": null,
   "metadata": {},
   "outputs": [],
   "source": [
    "import synapseclient\n",
    "syn = synapseclient.Synapse()\n",
    "syn.login()"
   ]
  },
  {
   "cell_type": "markdown",
   "metadata": {},
   "source": [
    "Import all important packages"
   ]
  },
  {
   "cell_type": "code",
   "execution_count": 44,
   "metadata": {},
   "outputs": [],
   "source": [
    "from synapseclient import Activity\n",
    "from synapseclient import Entity, Project, Folder, File, Link\n",
    "from synapseclient import Evaluation, Submission, SubmissionStatus\n",
    "from synapseclient import Wiki\n",
    "import synapseutils\n",
    "from re import search\n",
    "import pandas as pd"
   ]
  },
  {
   "cell_type": "markdown",
   "metadata": {},
   "source": [
    "Take a look at the items in the folder"
   ]
  },
  {
   "cell_type": "code",
   "execution_count": 6,
   "metadata": {},
   "outputs": [],
   "source": [
    "children = syn.getChildren(parent=\"syn34678050\")"
   ]
  },
  {
   "cell_type": "markdown",
   "metadata": {},
   "source": [
    "There is a dataset in the project for the somatic variants. Take a look at the items in that dataset"
   ]
  },
  {
   "cell_type": "code",
   "execution_count": 86,
   "metadata": {},
   "outputs": [],
   "source": [
    "dataset = syn.get(\"syn34678050\")\n",
    "df2 = pd.DataFrame(columns=[\"files\", \"synid\"])\n",
    "for f in dataset.datasetItems:\n",
    "   f_id = f.get('entityId')\n",
    "   filename = syn.get(f_id, downloadFile=False).get('name')\n",
    "   df = pd.DataFrame(filename.split(\"\\n\"), columns = ['files'])\n",
    "   df['synid'] = f_id\n",
    "   df2 = df2.append(df)   \n",
    "\n",
    "selected_files = df2[df2[\"files\"].str.contains('_filtered') & df2[\"files\"].str.endswith('.vcf.gz')]"
   ]
  },
  {
   "cell_type": "markdown",
   "metadata": {},
   "source": [
    "Looks like the dataset only had VCF files, no MAF files.\n",
    "\n",
    "So we take a step back and make a manifest of all the files in the original processed file folder."
   ]
  },
  {
   "cell_type": "code",
   "execution_count": 163,
   "metadata": {},
   "outputs": [],
   "source": [
    "#files = synapseutils.sync.syncFromSynapse(syn, \"syn27650634\", downloadFile=False)\n",
    "files_df = pd.DataFrame(files)\n",
    "files_df = files_df[[\"id\", 'name', 'versionNumber']]"
   ]
  },
  {
   "cell_type": "markdown",
   "metadata": {},
   "source": [
    "Then we select only the MAF files : their SynIDs and Version number.\n",
    "\n",
    "We will make a new dataset for these MAF files. Both SynID and Version Number are needed to make the dataset."
   ]
  },
  {
   "cell_type": "code",
   "execution_count": 164,
   "metadata": {},
   "outputs": [],
   "source": [
    "selected_files_df = files_df[files_df[\"name\"].str.endswith('.maf')]"
   ]
  },
  {
   "cell_type": "code",
   "execution_count": 173,
   "metadata": {},
   "outputs": [],
   "source": [
    "items = selected_files_df[[\"id\", \"versionNumber\"]]\n",
    "items.columns = [\"entityId\", \"versionNumber\"]\n",
    "items = items.to_dict('records')"
   ]
  },
  {
   "cell_type": "markdown",
   "metadata": {},
   "source": [
    "\n",
    "Now we make the new dataset specifically for the MAF files. Once the items are added, we go to the WebUI to publish a static version of the dataset for future referral."
   ]
  },
  {
   "cell_type": "code",
   "execution_count": 175,
   "metadata": {},
   "outputs": [],
   "source": [
    "dataset = synapseclient.Dataset(\n",
    "    name=\"Somatic_SNV_Maf\",\n",
    "    parent=\"syn4939902\",\n",
    "    dataset_items = items\n",
    ")\n",
    "dataset = syn.store(dataset)\n",
    "\n",
    "#dataset.add_item({'entityId': \"syn111\", 'versionNumber': 1})"
   ]
  },
  {
   "cell_type": "markdown",
   "metadata": {},
   "source": [
    "We can then use this dataset to download the important files that we will use for future analysis."
   ]
  },
  {
   "cell_type": "code",
   "execution_count": 177,
   "metadata": {},
   "outputs": [],
   "source": [
    "\n",
    "for id in selected_files_df[\"id\"]:\n",
    "    syn.get(id, downloadLocation = \"/Users/jineta/git/gitrepo/biobank-release-2/data/somatic_snv_batch1_2_3\")\n"
   ]
  }
 ],
 "metadata": {
  "interpreter": {
   "hash": "a1520fff7cfd7087e7c633877a43a7a6055f5cdda6c3f509280dc0c9a2a1b1a0"
  },
  "kernelspec": {
   "display_name": "Python 3.8.13 ('reticulate_conda')",
   "language": "python",
   "name": "python3"
  },
  "language_info": {
   "codemirror_mode": {
    "name": "ipython",
    "version": 3
   },
   "file_extension": ".py",
   "mimetype": "text/x-python",
   "name": "python",
   "nbconvert_exporter": "python",
   "pygments_lexer": "ipython3",
   "version": "3.8.13"
  },
  "orig_nbformat": 4
 },
 "nbformat": 4,
 "nbformat_minor": 2
}
