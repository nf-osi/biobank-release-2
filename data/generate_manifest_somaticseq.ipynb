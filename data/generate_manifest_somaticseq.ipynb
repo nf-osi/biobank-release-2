{
 "cells": [
  {
   "cell_type": "code",
   "execution_count": null,
   "metadata": {},
   "outputs": [],
   "source": [
    "import synapseclient\n",
    "import pandas as pd\n",
    "import numpy as np\n",
    "\n",
    "syn = synapseclient.Synapse()\n",
    "syn.login()"
   ]
  },
  {
   "cell_type": "code",
   "execution_count": 38,
   "metadata": {},
   "outputs": [],
   "source": [
    "# Regular expression pattern to match the desired substring to extract as sampleID\n",
    "# This pattern assumes that the target substring consists of alphanumeric characters and hyphens, and ends before \"_vs_\"\n",
    "pattern1 = r'([A-Za-z0-9\\-]+)(?=_vs_)'\n",
    "pattern2 = r'(?<=_vs_)([A-Za-z0-9\\-]+)(?=.)'\n",
    "pattern3 = r'([A-Za-z0-9\\-]+)(?=.recal)'\n",
    "\n",
    "somaticseq_vcfs = pd.read_csv(\"somaticseq_vcfs.csv\")\n",
    "somaticseq_vcfs = somaticseq_vcfs[[\"id\", \"name\"]]\n",
    "somaticseq_vcfs['sampleID1'] = somaticseq_vcfs['name'].str.extract(pattern1)\n",
    "somaticseq_vcfs['sampleID2'] = somaticseq_vcfs['name'].str.extract(pattern2)\n",
    "\n",
    "\n",
    "somaticseq_alignedreads = pd.read_csv(\"somaticseq_aligned_reads.csv\")\n",
    "somaticseq_alignedreads = somaticseq_alignedreads[[\"id\", \"name\"]]\n",
    "somaticseq_alignedreads['sampleID'] = somaticseq_alignedreads['name'].str.extract(pattern3)\n",
    "#somaticseq_crams = somaticseq_alignedreads[somaticseq_alignedreads['name'].str.endswith('.cram')]\n",
    "\n",
    "#write out the two manifests\n",
    "somaticseq_alignedreads.to_csv(\"somaticseq_aligned_reads.csv\")\n",
    "somaticseq_vcfs.to_csv(\"somaticseq_vcfs.csv\")"
   ]
  }
 ],
 "metadata": {
  "kernelspec": {
   "display_name": "Python 3",
   "language": "python",
   "name": "python3"
  },
  "language_info": {
   "codemirror_mode": {
    "name": "ipython",
    "version": 3
   },
   "file_extension": ".py",
   "mimetype": "text/x-python",
   "name": "python",
   "nbconvert_exporter": "python",
   "pygments_lexer": "ipython3",
   "version": "3.8.12"
  }
 },
 "nbformat": 4,
 "nbformat_minor": 2
}
